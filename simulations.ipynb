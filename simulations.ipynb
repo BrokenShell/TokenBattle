{
 "cells": [
  {
   "cell_type": "code",
   "execution_count": 59,
   "outputs": [],
   "source": [
    "from battles.battle import BattleField\n",
    "from battles.units import Character"
   ],
   "metadata": {
    "collapsed": false
   }
  },
  {
   "cell_type": "code",
   "execution_count": 60,
   "outputs": [],
   "source": [
    "character_data = {\n",
    "    'Alpha': 1,\n",
    "    'Beta': 2,\n",
    "    'Gamma': 3,\n",
    "    'Delta': 4,\n",
    "    'Epsilon': 5,\n",
    "}"
   ],
   "metadata": {
    "collapsed": false
   }
  },
  {
   "cell_type": "code",
   "execution_count": 61,
   "outputs": [],
   "source": [
    "roster = [Character(name, bonus) for name, bonus in character_data.items()]"
   ],
   "metadata": {
    "collapsed": false
   }
  },
  {
   "cell_type": "code",
   "execution_count": 62,
   "outputs": [],
   "source": [
    "n_rounds = 100 * len(character_data)"
   ],
   "metadata": {
    "collapsed": false
   }
  },
  {
   "cell_type": "code",
   "execution_count": 63,
   "metadata": {
    "collapsed": true
   },
   "outputs": [
    {
     "name": "stdout",
     "output_type": "stream",
     "text": [
      "After 500 rounds of combat...\n",
      "Epsilon: 146\n",
      "Delta: 128\n",
      "Gamma: 96\n",
      "Beta: 73\n",
      "Alpha: 57\n"
     ]
    }
   ],
   "source": [
    "combat = BattleField(*roster)\n",
    "print(f\"After {n_rounds} rounds of combat...\\n{combat(n_rounds)}\")"
   ]
  },
  {
   "cell_type": "code",
   "execution_count": 63,
   "outputs": [],
   "source": [],
   "metadata": {
    "collapsed": false
   }
  }
 ],
 "metadata": {
  "kernelspec": {
   "display_name": "Python 3",
   "language": "python",
   "name": "python3"
  },
  "language_info": {
   "codemirror_mode": {
    "name": "ipython",
    "version": 2
   },
   "file_extension": ".py",
   "mimetype": "text/x-python",
   "name": "python",
   "nbconvert_exporter": "python",
   "pygments_lexer": "ipython2",
   "version": "2.7.6"
  }
 },
 "nbformat": 4,
 "nbformat_minor": 0
}
